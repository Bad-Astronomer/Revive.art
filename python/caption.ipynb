{
 "cells": [
  {
   "cell_type": "code",
   "execution_count": 1,
   "metadata": {
    "id": "ChAxV0f2D8-4"
   },
   "outputs": [
    {
     "name": "stdout",
     "output_type": "stream",
     "text": [
      "Note: you may need to restart the kernel to use updated packages.\n"
     ]
    },
    {
     "name": "stderr",
     "output_type": "stream",
     "text": [
      "WARNING: You are using pip version 21.2.4; however, version 24.3.1 is available.\n",
      "You should consider upgrading via the 'd:\\LY\\Revive.art\\python\\venv\\Scripts\\python.exe -m pip install --upgrade pip' command.\n"
     ]
    }
   ],
   "source": [
    "%pip install -q -r requirements.txt"
   ]
  },
  {
   "cell_type": "code",
   "execution_count": 2,
   "metadata": {
    "id": "XDVi01GVLcbI"
   },
   "outputs": [],
   "source": [
    "from tqdm import tqdm"
   ]
  },
  {
   "cell_type": "code",
   "execution_count": 3,
   "metadata": {
    "id": "5S_nINn4ECfM"
   },
   "outputs": [
    {
     "data": {
      "text/plain": [
       "True"
      ]
     },
     "execution_count": 3,
     "metadata": {},
     "output_type": "execute_result"
    }
   ],
   "source": [
    "from dotenv import load_dotenv\n",
    "load_dotenv()"
   ]
  },
  {
   "cell_type": "code",
   "execution_count": 4,
   "metadata": {
    "id": "q-fsc1oiEJZB"
   },
   "outputs": [],
   "source": [
    "import os\n",
    "gemini_keys = [os.getenv(f'genai_api_key{i}') for i in range(1, 6)]"
   ]
  },
  {
   "cell_type": "code",
   "execution_count": 5,
   "metadata": {
    "id": "wwkO3hHULuTN"
   },
   "outputs": [
    {
     "name": "stderr",
     "output_type": "stream",
     "text": [
      "d:\\LY\\Revive.art\\python\\venv\\lib\\site-packages\\tqdm\\auto.py:21: TqdmWarning: IProgress not found. Please update jupyter and ipywidgets. See https://ipywidgets.readthedocs.io/en/stable/user_install.html\n",
      "  from .autonotebook import tqdm as notebook_tqdm\n"
     ]
    }
   ],
   "source": [
    "import google.generativeai as genai\n",
    "\n",
    "models = []\n",
    "for key in gemini_keys:\n",
    "    genai.configure(api_key=key)\n",
    "    models.append(genai.GenerativeModel(\"gemini-1.5-flash\"))"
   ]
  },
  {
   "cell_type": "code",
   "execution_count": 6,
   "metadata": {
    "id": "dcNoraN5GGNR"
   },
   "outputs": [],
   "source": [
    "import time\n",
    "model_counter = 0\n",
    "\n",
    "def caption(image_path):\n",
    "    global model_counter\n",
    "    model = models[model_counter]\n",
    "\n",
    "    prompt = \"Give me a caption for this photo. \\\n",
    "        Provide the colors for each prominent object in the photo in natural language. \\\n",
    "        IMPORTANT : Keep the caption ONE SHORT line. The caption should be in English. \\\n",
    "        DO NOT mention name of any characters.\"\n",
    "\n",
    "    while True:\n",
    "        try:\n",
    "            image = genai.upload_file(image_path)\n",
    "            result = model.generate_content(\n",
    "                [image, \"\\n\\n\", prompt],\n",
    "            )\n",
    "            break\n",
    "        except:\n",
    "            # time.sleep(10)\n",
    "            continue\n",
    "\n",
    "    model_counter = (model_counter + 1) % len(gemini_keys)\n",
    "    # Gemini harm filter bug\n",
    "    try:\n",
    "        return result.text\n",
    "    except:\n",
    "        print(\"Returned Null string\")\n",
    "        print(result)\n",
    "        return \"\""
   ]
  },
  {
   "cell_type": "code",
   "execution_count": 7,
   "metadata": {
    "id": "PYEES0Cpbbbu"
   },
   "outputs": [],
   "source": [
    "import json\n",
    "\n",
    "data = {\n",
    "        \"images\": [],\n",
    "        \"annotations\": []\n",
    "    }"
   ]
  },
  {
   "cell_type": "code",
   "execution_count": 8,
   "metadata": {
    "id": "PA6AEToKs-dd"
   },
   "outputs": [
    {
     "name": "stderr",
     "output_type": "stream",
     "text": [
      "Captioning data\\train_adv :  57%|█████▋    | 77/134 [04:34<04:03,  4.28s/it]"
     ]
    },
    {
     "name": "stdout",
     "output_type": "stream",
     "text": [
      "Returned Null string\n",
      "response:\n",
      "GenerateContentResponse(\n",
      "    done=True,\n",
      "    iterator=None,\n",
      "    result=protos.GenerateContentResponse({\n",
      "      \"candidates\": [\n",
      "        {\n",
      "          \"finish_reason\": \"SAFETY\",\n",
      "          \"index\": 0,\n",
      "          \"safety_ratings\": [\n",
      "            {\n",
      "              \"category\": \"HARM_CATEGORY_SEXUALLY_EXPLICIT\",\n",
      "              \"probability\": \"NEGLIGIBLE\"\n",
      "            },\n",
      "            {\n",
      "              \"category\": \"HARM_CATEGORY_HATE_SPEECH\",\n",
      "              \"probability\": \"NEGLIGIBLE\"\n",
      "            },\n",
      "            {\n",
      "              \"category\": \"HARM_CATEGORY_HARASSMENT\",\n",
      "              \"probability\": \"NEGLIGIBLE\"\n",
      "            },\n",
      "            {\n",
      "              \"category\": \"HARM_CATEGORY_DANGEROUS_CONTENT\",\n",
      "              \"probability\": \"MEDIUM\"\n",
      "            }\n",
      "          ]\n",
      "        }\n",
      "      ],\n",
      "      \"usage_metadata\": {\n",
      "        \"prompt_token_count\": 309,\n",
      "        \"total_token_count\": 309\n",
      "      }\n",
      "    }),\n",
      ")\n"
     ]
    },
    {
     "name": "stderr",
     "output_type": "stream",
     "text": [
      "Captioning data\\train_adv : 100%|██████████| 134/134 [07:53<00:00,  3.53s/it]\n",
      "Captioning data\\train_familyguy : 100%|██████████| 156/156 [09:45<00:00,  3.75s/it]\n",
      "Captioning data\\train_gumball : 100%|██████████| 111/111 [06:53<00:00,  3.73s/it]\n",
      "Captioning data\\train_pok : 100%|██████████| 130/130 [08:06<00:00,  3.74s/it]\n",
      "Captioning data\\train_smurf : 100%|██████████| 130/130 [08:00<00:00,  3.70s/it]\n",
      "Captioning data\\train_sp :  45%|████▍     | 49/109 [03:07<04:03,  4.06s/it]"
     ]
    },
    {
     "name": "stdout",
     "output_type": "stream",
     "text": [
      "Returned Null string\n",
      "response:\n",
      "GenerateContentResponse(\n",
      "    done=True,\n",
      "    iterator=None,\n",
      "    result=protos.GenerateContentResponse({\n",
      "      \"candidates\": [\n",
      "        {\n",
      "          \"finish_reason\": \"SAFETY\",\n",
      "          \"index\": 0,\n",
      "          \"safety_ratings\": [\n",
      "            {\n",
      "              \"category\": \"HARM_CATEGORY_SEXUALLY_EXPLICIT\",\n",
      "              \"probability\": \"HIGH\"\n",
      "            },\n",
      "            {\n",
      "              \"category\": \"HARM_CATEGORY_HATE_SPEECH\",\n",
      "              \"probability\": \"NEGLIGIBLE\"\n",
      "            },\n",
      "            {\n",
      "              \"category\": \"HARM_CATEGORY_HARASSMENT\",\n",
      "              \"probability\": \"NEGLIGIBLE\"\n",
      "            },\n",
      "            {\n",
      "              \"category\": \"HARM_CATEGORY_DANGEROUS_CONTENT\",\n",
      "              \"probability\": \"NEGLIGIBLE\"\n",
      "            }\n",
      "          ]\n",
      "        }\n",
      "      ],\n",
      "      \"usage_metadata\": {\n",
      "        \"prompt_token_count\": 309,\n",
      "        \"total_token_count\": 309\n",
      "      }\n",
      "    }),\n",
      ")\n"
     ]
    },
    {
     "name": "stderr",
     "output_type": "stream",
     "text": [
      "Captioning data\\train_sp :  47%|████▋     | 51/109 [03:15<03:56,  4.08s/it]"
     ]
    },
    {
     "name": "stdout",
     "output_type": "stream",
     "text": [
      "Returned Null string\n",
      "response:\n",
      "GenerateContentResponse(\n",
      "    done=True,\n",
      "    iterator=None,\n",
      "    result=protos.GenerateContentResponse({\n",
      "      \"candidates\": [\n",
      "        {\n",
      "          \"finish_reason\": \"SAFETY\",\n",
      "          \"index\": 0,\n",
      "          \"safety_ratings\": [\n",
      "            {\n",
      "              \"category\": \"HARM_CATEGORY_SEXUALLY_EXPLICIT\",\n",
      "              \"probability\": \"MEDIUM\"\n",
      "            },\n",
      "            {\n",
      "              \"category\": \"HARM_CATEGORY_HATE_SPEECH\",\n",
      "              \"probability\": \"NEGLIGIBLE\"\n",
      "            },\n",
      "            {\n",
      "              \"category\": \"HARM_CATEGORY_HARASSMENT\",\n",
      "              \"probability\": \"NEGLIGIBLE\"\n",
      "            },\n",
      "            {\n",
      "              \"category\": \"HARM_CATEGORY_DANGEROUS_CONTENT\",\n",
      "              \"probability\": \"NEGLIGIBLE\"\n",
      "            }\n",
      "          ]\n",
      "        }\n",
      "      ],\n",
      "      \"usage_metadata\": {\n",
      "        \"prompt_token_count\": 309,\n",
      "        \"total_token_count\": 309\n",
      "      }\n",
      "    }),\n",
      ")\n"
     ]
    },
    {
     "name": "stderr",
     "output_type": "stream",
     "text": [
      "Captioning data\\train_sp :  51%|█████▏    | 56/109 [03:35<03:27,  3.91s/it]"
     ]
    },
    {
     "name": "stdout",
     "output_type": "stream",
     "text": [
      "Returned Null string\n",
      "response:\n",
      "GenerateContentResponse(\n",
      "    done=True,\n",
      "    iterator=None,\n",
      "    result=protos.GenerateContentResponse({\n",
      "      \"candidates\": [\n",
      "        {\n",
      "          \"finish_reason\": \"OTHER\",\n",
      "          \"index\": 0,\n",
      "          \"safety_ratings\": [\n",
      "            {\n",
      "              \"category\": \"HARM_CATEGORY_SEXUALLY_EXPLICIT\",\n",
      "              \"probability\": \"NEGLIGIBLE\"\n",
      "            },\n",
      "            {\n",
      "              \"category\": \"HARM_CATEGORY_HATE_SPEECH\",\n",
      "              \"probability\": \"NEGLIGIBLE\"\n",
      "            },\n",
      "            {\n",
      "              \"category\": \"HARM_CATEGORY_HARASSMENT\",\n",
      "              \"probability\": \"NEGLIGIBLE\"\n",
      "            },\n",
      "            {\n",
      "              \"category\": \"HARM_CATEGORY_DANGEROUS_CONTENT\",\n",
      "              \"probability\": \"NEGLIGIBLE\"\n",
      "            }\n",
      "          ]\n",
      "        }\n",
      "      ],\n",
      "      \"usage_metadata\": {\n",
      "        \"prompt_token_count\": 309,\n",
      "        \"total_token_count\": 309\n",
      "      }\n",
      "    }),\n",
      ")\n"
     ]
    },
    {
     "name": "stderr",
     "output_type": "stream",
     "text": [
      "Captioning data\\train_sp :  52%|█████▏    | 57/109 [03:39<03:19,  3.83s/it]"
     ]
    },
    {
     "name": "stdout",
     "output_type": "stream",
     "text": [
      "Returned Null string\n",
      "response:\n",
      "GenerateContentResponse(\n",
      "    done=True,\n",
      "    iterator=None,\n",
      "    result=protos.GenerateContentResponse({\n",
      "      \"candidates\": [\n",
      "        {\n",
      "          \"finish_reason\": \"OTHER\",\n",
      "          \"index\": 0,\n",
      "          \"safety_ratings\": [\n",
      "            {\n",
      "              \"category\": \"HARM_CATEGORY_SEXUALLY_EXPLICIT\",\n",
      "              \"probability\": \"NEGLIGIBLE\"\n",
      "            },\n",
      "            {\n",
      "              \"category\": \"HARM_CATEGORY_HATE_SPEECH\",\n",
      "              \"probability\": \"NEGLIGIBLE\"\n",
      "            },\n",
      "            {\n",
      "              \"category\": \"HARM_CATEGORY_HARASSMENT\",\n",
      "              \"probability\": \"NEGLIGIBLE\"\n",
      "            },\n",
      "            {\n",
      "              \"category\": \"HARM_CATEGORY_DANGEROUS_CONTENT\",\n",
      "              \"probability\": \"NEGLIGIBLE\"\n",
      "            }\n",
      "          ]\n",
      "        }\n",
      "      ],\n",
      "      \"usage_metadata\": {\n",
      "        \"prompt_token_count\": 309,\n",
      "        \"total_token_count\": 309\n",
      "      }\n",
      "    }),\n",
      ")\n"
     ]
    },
    {
     "name": "stderr",
     "output_type": "stream",
     "text": [
      "Captioning data\\train_sp : 100%|██████████| 109/109 [06:55<00:00,  3.81s/it]\n",
      "Captioning data\\train_sponge :  33%|███▎      | 41/123 [02:31<04:50,  3.55s/it]"
     ]
    },
    {
     "name": "stdout",
     "output_type": "stream",
     "text": [
      "Returned Null string\n",
      "response:\n",
      "GenerateContentResponse(\n",
      "    done=True,\n",
      "    iterator=None,\n",
      "    result=protos.GenerateContentResponse({\n",
      "      \"candidates\": [\n",
      "        {\n",
      "          \"finish_reason\": \"SAFETY\",\n",
      "          \"index\": 0,\n",
      "          \"safety_ratings\": [\n",
      "            {\n",
      "              \"category\": \"HARM_CATEGORY_SEXUALLY_EXPLICIT\",\n",
      "              \"probability\": \"MEDIUM\"\n",
      "            },\n",
      "            {\n",
      "              \"category\": \"HARM_CATEGORY_HATE_SPEECH\",\n",
      "              \"probability\": \"NEGLIGIBLE\"\n",
      "            },\n",
      "            {\n",
      "              \"category\": \"HARM_CATEGORY_HARASSMENT\",\n",
      "              \"probability\": \"NEGLIGIBLE\"\n",
      "            },\n",
      "            {\n",
      "              \"category\": \"HARM_CATEGORY_DANGEROUS_CONTENT\",\n",
      "              \"probability\": \"NEGLIGIBLE\"\n",
      "            }\n",
      "          ]\n",
      "        }\n",
      "      ],\n",
      "      \"usage_metadata\": {\n",
      "        \"prompt_token_count\": 309,\n",
      "        \"total_token_count\": 309\n",
      "      }\n",
      "    }),\n",
      ")\n"
     ]
    },
    {
     "name": "stderr",
     "output_type": "stream",
     "text": [
      "Captioning data\\train_sponge : 100%|██████████| 123/123 [07:45<00:00,  3.79s/it]\n",
      "Captioning data\\train_tom : 100%|██████████| 103/103 [06:36<00:00,  3.85s/it]\n",
      "Captioning data\\train_tsubasa : 100%|██████████| 122/122 [07:40<00:00,  3.77s/it]\n"
     ]
    }
   ],
   "source": [
    "image_id = 1\n",
    "for image_dir in os.listdir('data'):\n",
    "    image_dir = os.path.join('data', image_dir)\n",
    "\n",
    "    for image_name in tqdm(os.listdir(image_dir), desc=f\"Captioning {image_dir} \"):\n",
    "        image_path = os.path.join(image_dir, image_name)\n",
    "        image_caption = caption(image_path)\n",
    "\n",
    "        data[\"images\"].append({\n",
    "                \"id\": image_id,\n",
    "                \"file_name\": image_name,\n",
    "                \"folder\": image_dir,\n",
    "            })\n",
    "\n",
    "        data[\"annotations\"].append({\n",
    "            \"id\": image_id,\n",
    "            \"image_id\": image_id,\n",
    "            \"caption\": image_caption,\n",
    "        })\n",
    "        image_id += 1\n",
    "\n",
    "with open('captions1.json', 'w') as f:\n",
    "    json.dump(data, f, indent=4)"
   ]
  },
  {
   "cell_type": "code",
   "execution_count": 9,
   "metadata": {},
   "outputs": [],
   "source": [
    "# import os\n",
    "# from tqdm import tqdm\n",
    "# from concurrent.futures import ThreadPoolExecutor, as_completed\n",
    "# import json\n",
    "\n",
    "# data = {\n",
    "#         \"images\": [],\n",
    "#         \"annotations\": []\n",
    "#     }\n",
    "# image_id = 1\n",
    "\n",
    "\n",
    "# def caption_image(image_path, image_id, image_name, image_dir):\n",
    "#     image_caption = caption(image_path)\n",
    "#     return [image_id, image_name, image_dir, image_caption]\n",
    "\n",
    "# with ThreadPoolExecutor(max_workers = len(gemini_keys)) as executor:\n",
    "#     futures = []\n",
    "#     for image_dir in os.listdir('data'):\n",
    "#         image_dir = os.path.join('data', image_dir)\n",
    "        \n",
    "#         for image_name in os.listdir(image_dir):\n",
    "#             image_path = os.path.join(image_dir, image_name)\n",
    "#             futures.append(executor.submit(caption_image, image_path, image_id, image_name, image_dir))\n",
    "#             image_id += 1\n",
    "    \n",
    "#     for future in tqdm(as_completed(futures), total=len(futures), desc=\"Processing images\"):\n",
    "#         image_id, image_name, image_dir, image_caption = future.result()\n",
    "        \n",
    "#         data[\"images\"].append({\n",
    "#                 \"id\": image_id,\n",
    "#                 \"file_name\": image_name,\n",
    "#                 \"folder\": image_dir,\n",
    "#             })\n",
    "\n",
    "#         data[\"annotations\"].append({\n",
    "#             \"id\": image_id,\n",
    "#             \"image_id\": image_id,\n",
    "#             \"caption\": image_caption,\n",
    "#         })\n",
    "        \n",
    "#         # print(image_id, os.path.join(image_dir, image_name), image_caption)\n",
    "\n",
    "# with open('captions.json', 'w') as f:\n",
    "#     json.dump(data, f, indent=4)"
   ]
  },
  {
   "cell_type": "code",
   "execution_count": null,
   "metadata": {},
   "outputs": [],
   "source": []
  }
 ],
 "metadata": {
  "colab": {
   "provenance": []
  },
  "kernelspec": {
   "display_name": "Python 3",
   "language": "python",
   "name": "python3"
  },
  "language_info": {
   "codemirror_mode": {
    "name": "ipython",
    "version": 3
   },
   "file_extension": ".py",
   "mimetype": "text/x-python",
   "name": "python",
   "nbconvert_exporter": "python",
   "pygments_lexer": "ipython3",
   "version": "3.10.2"
  }
 },
 "nbformat": 4,
 "nbformat_minor": 0
}
